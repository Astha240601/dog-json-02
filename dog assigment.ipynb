{
 "cells": [
  {
   "cell_type": "code",
   "execution_count": 1,
   "id": "dc7d665c",
   "metadata": {},
   "outputs": [
    {
     "name": "stdout",
     "output_type": "stream",
     "text": [
      "name of the Dog is Jackson\n",
      "age of the dog is 5\n",
      "coat color of the dog is White\n",
      "height of Jack Russell Terrier is 25-38 cm\n",
      "weight of Jack Russell Terrier is 6-8 kg\n",
      "overall bodylength of Jack Russell  Terrier is 46-55cm\n",
      "Temprament of this dog breed is Intelligent, Stubbon, Athletic, Energetic, Fearless\n",
      "name of the Dog is Heather\n",
      "age of the dog is 7\n",
      "coat color of the dog is Brindle & White\n",
      "height of Bulldog is 31-40 cm\n",
      "weight of Bulldog is 23-25 kg\n",
      "overall bodylength of Bulldog is 51-69 cm\n",
      "Temprament of this dog breed is Docile, Friendly, Gregacious\n"
     ]
    }
   ],
   "source": [
    "class Dog:\n",
    "    def __init__(self,name, age, coat_color):\n",
    "        self.name=name\n",
    "        self.age=age\n",
    "        self.coat_color=coat_color\n",
    "    def description(self):\n",
    "        print(f\"name of the Dog is {self.name}\")\n",
    "        print(f\"age of the dog is {self.age}\")\n",
    "        \n",
    "    def get_info(self):\n",
    "        print(f'coat color of the dog is {self.coat_color}')\n",
    "        \n",
    "class JackRussellTerrier(Dog):\n",
    "    def __init__(self,name, age, coat_color,hieght=\"25-38 cm\",mass=\"6-8 kg\",bodylength=\"46-55cm\"):\n",
    "        super().__init__(name, age, coat_color)\n",
    "        self.hieght=hieght\n",
    "        self.mass=mass\n",
    "        self.bodylength=bodylength\n",
    "    def lifespan(self,lifeline=\"Lifespan of this dog breed is 12-16 years\"):\n",
    "        print(lifeline)\n",
    "        \n",
    "    def temprament(self):\n",
    "        temper=\"Temprament of this dog breed is Intelligent, Stubbon, Athletic, Energetic, Fearless\"\n",
    "        print(temper)\n",
    "        \n",
    "    def getappearance(self):\n",
    "        print(f\"height of Jack Russell Terrier is {self.hieght}\")\n",
    "        print(f\"weight of Jack Russell Terrier is {self.mass}\")\n",
    "        print(f\"overall bodylength of Jack Russell  Terrier is {self.bodylength}\")\n",
    "         \n",
    "\n",
    "class Bulldog(Dog):\n",
    "    def __init__(self,name, age, coat_color,hieght=\"31-40 cm\",mass=\"23-25 kg\",bodylength=\"51-69 cm\"):\n",
    "        super().__init__(name, age, coat_color)\n",
    "        self.hieght=hieght\n",
    "        self.mass=mass\n",
    "        self.bodylength=bodylength\n",
    "        \n",
    "    def lifespan(self):\n",
    "        lifeline=\"Lifespan of this dog breed is 8-10 years\"\n",
    "        print(lifeline)\n",
    "        \n",
    "    def temprament(self):\n",
    "        temper=\"Temprament of this dog breed is Docile, Friendly, Gregacious\"\n",
    "        print(temper)\n",
    "        \n",
    "    def getappearance(self):\n",
    "        print(f\"height of Bulldog is {self.hieght}\")\n",
    "        print(f\"weight of Bulldog is {self.mass}\")\n",
    "        print(f\"overall bodylength of Bulldog is {self.bodylength}\")\n",
    "        \n",
    "\n",
    "J=JackRussellTerrier(\"Jackson\",5,\"White\")\n",
    "J.description()\n",
    "J.get_info()\n",
    "J.getappearance()\n",
    "J.temprament()\n",
    "\n",
    "B=Bulldog(\"Heather\", 7, \"Brindle & White\")\n",
    "B.description()\n",
    "B.get_info()\n",
    "B.getappearance()\n",
    "B.temprament()\n"
   ]
  },
  {
   "cell_type": "code",
   "execution_count": null,
   "id": "72825dc4",
   "metadata": {},
   "outputs": [],
   "source": []
  }
 ],
 "metadata": {
  "kernelspec": {
   "display_name": "Python 3 (ipykernel)",
   "language": "python",
   "name": "python3"
  },
  "language_info": {
   "codemirror_mode": {
    "name": "ipython",
    "version": 3
   },
   "file_extension": ".py",
   "mimetype": "text/x-python",
   "name": "python",
   "nbconvert_exporter": "python",
   "pygments_lexer": "ipython3",
   "version": "3.9.12"
  }
 },
 "nbformat": 4,
 "nbformat_minor": 5
}
